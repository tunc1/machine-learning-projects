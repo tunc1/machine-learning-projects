{
 "metadata": {
  "language_info": {
   "codemirror_mode": {
    "name": "ipython",
    "version": 3
   },
   "file_extension": ".py",
   "mimetype": "text/x-python",
   "name": "python",
   "nbconvert_exporter": "python",
   "pygments_lexer": "ipython3",
   "version": "3.8.6-final"
  },
  "orig_nbformat": 2,
  "kernelspec": {
   "name": "python3",
   "display_name": "Python 3.8.6 64-bit",
   "metadata": {
    "interpreter": {
     "hash": "5c0372ed38b372118c24adb00d45654d76c8d10261533c5724e3f5fc1d75489a"
    }
   }
  }
 },
 "nbformat": 4,
 "nbformat_minor": 2,
 "cells": [
  {
   "cell_type": "code",
   "execution_count": 1,
   "metadata": {},
   "outputs": [],
   "source": [
    "import pandas\n",
    "from sklearn.model_selection import cross_validate\n",
    "from sklearn.pipeline import Pipeline\n",
    "from sklearn.feature_extraction.text import TfidfVectorizer\n",
    "from sklearn.naive_bayes import BernoulliNB"
   ]
  },
  {
   "cell_type": "code",
   "execution_count": 2,
   "metadata": {},
   "outputs": [
    {
     "output_type": "execute_result",
     "data": {
      "text/plain": [
       "                                                   text  spam\n",
       "0     Subject: naturally irresistible your corporate...     1\n",
       "1     Subject: the stock trading gunslinger  fanny i...     1\n",
       "2     Subject: unbelievable new homes made easy  im ...     1\n",
       "3     Subject: 4 color printing special  request add...     1\n",
       "4     Subject: do not have money , get software cds ...     1\n",
       "...                                                 ...   ...\n",
       "5689  Subject: re : receipts from visit  jim ,  than...     0\n",
       "5690  Subject: re : enron case study update  wow ! a...     0\n",
       "5691  Subject: re : interest  david ,  please , call...     0\n",
       "5692  Subject: news : aurora 5 . 2 update  aurora ve...     0\n",
       "5693  Subjecet : Congratulation. Hi Harsh You have b...     0\n",
       "\n",
       "[5694 rows x 2 columns]"
      ],
      "text/html": "<div>\n<style scoped>\n    .dataframe tbody tr th:only-of-type {\n        vertical-align: middle;\n    }\n\n    .dataframe tbody tr th {\n        vertical-align: top;\n    }\n\n    .dataframe thead th {\n        text-align: right;\n    }\n</style>\n<table border=\"1\" class=\"dataframe\">\n  <thead>\n    <tr style=\"text-align: right;\">\n      <th></th>\n      <th>text</th>\n      <th>spam</th>\n    </tr>\n  </thead>\n  <tbody>\n    <tr>\n      <th>0</th>\n      <td>Subject: naturally irresistible your corporate...</td>\n      <td>1</td>\n    </tr>\n    <tr>\n      <th>1</th>\n      <td>Subject: the stock trading gunslinger  fanny i...</td>\n      <td>1</td>\n    </tr>\n    <tr>\n      <th>2</th>\n      <td>Subject: unbelievable new homes made easy  im ...</td>\n      <td>1</td>\n    </tr>\n    <tr>\n      <th>3</th>\n      <td>Subject: 4 color printing special  request add...</td>\n      <td>1</td>\n    </tr>\n    <tr>\n      <th>4</th>\n      <td>Subject: do not have money , get software cds ...</td>\n      <td>1</td>\n    </tr>\n    <tr>\n      <th>...</th>\n      <td>...</td>\n      <td>...</td>\n    </tr>\n    <tr>\n      <th>5689</th>\n      <td>Subject: re : receipts from visit  jim ,  than...</td>\n      <td>0</td>\n    </tr>\n    <tr>\n      <th>5690</th>\n      <td>Subject: re : enron case study update  wow ! a...</td>\n      <td>0</td>\n    </tr>\n    <tr>\n      <th>5691</th>\n      <td>Subject: re : interest  david ,  please , call...</td>\n      <td>0</td>\n    </tr>\n    <tr>\n      <th>5692</th>\n      <td>Subject: news : aurora 5 . 2 update  aurora ve...</td>\n      <td>0</td>\n    </tr>\n    <tr>\n      <th>5693</th>\n      <td>Subjecet : Congratulation. Hi Harsh You have b...</td>\n      <td>0</td>\n    </tr>\n  </tbody>\n</table>\n<p>5694 rows × 2 columns</p>\n</div>"
     },
     "metadata": {},
     "execution_count": 2
    }
   ],
   "source": [
    "dataset=pandas.read_csv(\"data/emails.csv\")\n",
    "dataset"
   ]
  },
  {
   "cell_type": "code",
   "execution_count": 3,
   "metadata": {},
   "outputs": [
    {
     "output_type": "stream",
     "name": "stdout",
     "text": [
      "<class 'pandas.core.frame.DataFrame'>\nRangeIndex: 5694 entries, 0 to 5693\nData columns (total 2 columns):\n #   Column  Non-Null Count  Dtype \n---  ------  --------------  ----- \n 0   text    5694 non-null   object\n 1   spam    5694 non-null   int64 \ndtypes: int64(1), object(1)\nmemory usage: 89.1+ KB\n"
     ]
    }
   ],
   "source": [
    "dataset.info()"
   ]
  },
  {
   "cell_type": "code",
   "execution_count": 4,
   "metadata": {},
   "outputs": [
    {
     "output_type": "execute_result",
     "data": {
      "text/plain": [
       "(0       Subject: naturally irresistible your corporate...\n",
       " 1       Subject: the stock trading gunslinger  fanny i...\n",
       " 2       Subject: unbelievable new homes made easy  im ...\n",
       " 3       Subject: 4 color printing special  request add...\n",
       " 4       Subject: do not have money , get software cds ...\n",
       "                               ...                        \n",
       " 5689    Subject: re : receipts from visit  jim ,  than...\n",
       " 5690    Subject: re : enron case study update  wow ! a...\n",
       " 5691    Subject: re : interest  david ,  please , call...\n",
       " 5692    Subject: news : aurora 5 . 2 update  aurora ve...\n",
       " 5693    Subjecet : Congratulation. Hi Harsh You have b...\n",
       " Name: text, Length: 5694, dtype: object,\n",
       " 0       1\n",
       " 1       1\n",
       " 2       1\n",
       " 3       1\n",
       " 4       1\n",
       "        ..\n",
       " 5689    0\n",
       " 5690    0\n",
       " 5691    0\n",
       " 5692    0\n",
       " 5693    0\n",
       " Name: spam, Length: 5694, dtype: int64)"
      ]
     },
     "metadata": {},
     "execution_count": 4
    }
   ],
   "source": [
    "x=dataset[\"text\"]\n",
    "y=dataset[\"spam\"]\n",
    "x,y"
   ]
  },
  {
   "cell_type": "code",
   "execution_count": 5,
   "metadata": {},
   "outputs": [
    {
     "output_type": "execute_result",
     "data": {
      "text/plain": [
       "{'fit_time': array([2.10800529, 2.5149889 , 2.44602847, 2.18199635, 3.31999588]),\n",
       " 'score_time': array([0.53800297, 0.54300308, 0.54397869, 0.73300052, 0.54799867]),\n",
       " 'test_accuracy': array([0.9833187 , 0.98595259, 0.98946444, 0.99297629, 0.98857645]),\n",
       " 'test_recall': array([0.96715328, 0.96350365, 0.97445255, 0.98901099, 0.97802198]),\n",
       " 'test_precision': array([0.96363636, 0.97777778, 0.98161765, 0.98181818, 0.97445255])}"
      ]
     },
     "metadata": {},
     "execution_count": 5
    }
   ],
   "source": [
    "pipeline=Pipeline([\n",
    "    (\"vectorizer\",TfidfVectorizer()),\n",
    "    (\"model\",BernoulliNB())\n",
    "])\n",
    "cross_validate(pipeline,x,y,cv=5,scoring=[\"accuracy\",\"recall\",\"precision\"])"
   ]
  }
 ]
}