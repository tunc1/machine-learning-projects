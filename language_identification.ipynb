{
  "nbformat": 4,
  "nbformat_minor": 0,
  "metadata": {
    "colab": {
      "name": "Untitled0.ipynb",
      "provenance": [],
      "collapsed_sections": []
    },
    "kernelspec": {
      "name": "python3",
      "display_name": "Python 3"
    },
    "language_info": {
      "name": "python"
    },
    "accelerator": "GPU"
  },
  "cells": [
    {
      "cell_type": "code",
      "metadata": {
        "id": "GHCPn29jnxo6"
      },
      "source": [
        "import pandas\n",
        "import numpy\n",
        "import nltk\n",
        "from nltk.stem import WordNetLemmatizer\n",
        "from sklearn.model_selection import train_test_split\n",
        "from sklearn.preprocessing import LabelEncoder\n",
        "from tensorflow.keras.utils import to_categorical\n",
        "from tensorflow.keras.preprocessing.text import Tokenizer\n",
        "from tensorflow.keras.preprocessing.sequence import pad_sequences\n",
        "from tensorflow.keras.layers import Dense,Embedding,LSTM\n",
        "from tensorflow.keras.models import load_model,Sequential"
      ],
      "execution_count": 1,
      "outputs": []
    },
    {
      "cell_type": "code",
      "metadata": {
        "id": "yGwQvNbuoY3G"
      },
      "source": [
        "maxlength=100\n",
        "df=pandas.read_csv(\"data/language_identification.csv\")\n",
        "encoder=LabelEncoder()\n",
        "lemmatizer=WordNetLemmatizer()\n",
        "tokenizer=Tokenizer(oov_token=\"UNK\")"
      ],
      "execution_count": 2,
      "outputs": []
    },
    {
      "cell_type": "code",
      "metadata": {
        "id": "xI4kbb0vojft"
      },
      "source": [
        "x=df[\"Text\"]\n",
        "y=df[\"language\"]"
      ],
      "execution_count": 3,
      "outputs": []
    },
    {
      "cell_type": "code",
      "metadata": {
        "id": "jnl8oFsqpttN"
      },
      "source": [
        "y=encoder.fit_transform(y)\n",
        "labels=encoder.classes_"
      ],
      "execution_count": 4,
      "outputs": []
    },
    {
      "cell_type": "code",
      "metadata": {
        "id": "cbWenGWyptxr"
      },
      "source": [
        "y=to_categorical(y)"
      ],
      "execution_count": 5,
      "outputs": []
    },
    {
      "cell_type": "code",
      "metadata": {
        "id": "NrE3R93Bpzrg"
      },
      "source": [
        "tokenizer.fit_on_texts(x)\n",
        "vocabulary_size=len(tokenizer.word_index)+1"
      ],
      "execution_count": 6,
      "outputs": []
    },
    {
      "cell_type": "code",
      "metadata": {
        "id": "XOOz0sMWp-Wm"
      },
      "source": [
        "x=tokenizer.texts_to_sequences(x)"
      ],
      "execution_count": 7,
      "outputs": []
    },
    {
      "cell_type": "code",
      "metadata": {
        "id": "JHpgg038qIHr"
      },
      "source": [
        "x=pad_sequences(x,maxlength,truncating=\"post\")"
      ],
      "execution_count": 8,
      "outputs": []
    },
    {
      "cell_type": "code",
      "metadata": {
        "id": "mcI4vM1tqOek"
      },
      "source": [
        "x_train,x_test,y_train,y_test=train_test_split(x,y)"
      ],
      "execution_count": 9,
      "outputs": []
    },
    {
      "cell_type": "code",
      "metadata": {
        "colab": {
          "base_uri": "https://localhost:8080/"
        },
        "id": "oUZiP8dXqWKY",
        "outputId": "dbecae72-d08f-406d-af1a-ed0afcb3d805"
      },
      "source": [
        "model=Sequential([\n",
        "    Embedding(vocabulary_size,64,input_length=maxlength),\n",
        "    LSTM(64),\n",
        "    Dense(32),\n",
        "    Dense(len(labels),\"softmax\")\n",
        "])\n",
        "model.compile(\"adam\",\"categorical_crossentropy\",\"accuracy\")\n",
        "model.fit(x_train,y_train,epochs=2,validation_data=(x_test,y_test))"
      ],
      "execution_count": null,
      "outputs": [
        {
          "output_type": "stream",
          "text": [
            "Epoch 1/2\n",
            "516/516 [==============================] - 20s 33ms/step - loss: 1.0782 - accuracy: 0.6708 - val_loss: 0.2639 - val_accuracy: 0.9249\n",
            "Epoch 2/2\n",
            "516/516 [==============================] - 17s 32ms/step - loss: 0.2097 - accuracy: 0.9353 - val_loss: 0.2156 - val_accuracy: 0.9275\n"
          ],
          "name": "stdout"
        }
      ]
    }
  ]
}