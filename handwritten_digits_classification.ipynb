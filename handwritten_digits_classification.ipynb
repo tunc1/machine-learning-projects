{
  "nbformat": 4,
  "nbformat_minor": 0,
  "metadata": {
    "colab": {
      "name": "Untitled0.ipynb",
      "provenance": [],
      "collapsed_sections": []
    },
    "kernelspec": {
      "name": "python3",
      "display_name": "Python 3"
    },
    "language_info": {
      "name": "python"
    },
    "accelerator": "GPU"
  },
  "cells": [
    {
      "cell_type": "code",
      "metadata": {
        "id": "dSUg0dJ-wwFM"
      },
      "source": [
        "from keras.datasets import mnist\n",
        "from keras.models import Sequential\n",
        "from keras.layers import Dense,Conv2D,MaxPool2D,Flatten"
      ],
      "execution_count": 1,
      "outputs": []
    },
    {
      "cell_type": "code",
      "metadata": {
        "id": "QzKg6Wtzw-Mi"
      },
      "source": [
        "(x_train,y_train),(x_test,y_test)=mnist.load_data()\n",
        "x_train=x_train.reshape((-1,28,28,1))\n",
        "x_test=x_test.reshape((-1,28,28,1))"
      ],
      "execution_count": 2,
      "outputs": []
    },
    {
      "cell_type": "code",
      "metadata": {
        "id": "arvpFOkvxBH4",
        "outputId": "9ffd85d3-331a-4149-9442-de670d0f7b43",
        "colab": {
          "base_uri": "https://localhost:8080/"
        }
      },
      "source": [
        "model=Sequential([\n",
        "    Conv2D(filters=32,kernel_size=(3,3),activation=\"relu\",padding=\"same\",input_shape=(28,28,1)),\n",
        "    MaxPool2D(strides=2),\n",
        "    Conv2D(filters=64,kernel_size=(3,3),activation=\"relu\",padding=\"same\"),\n",
        "    MaxPool2D(strides=2),\n",
        "    Flatten(),\n",
        "    Dense(units=10,activation=\"softmax\")\n",
        "])\n",
        "model.compile(optimizer=\"adam\",loss=\"sparse_categorical_crossentropy\",metrics=[\"accuracy\"])\n",
        "model.fit(x_train,y_train,epochs=5,validation_data=(x_test,y_test))"
      ],
      "execution_count": 3,
      "outputs": [
        {
          "output_type": "stream",
          "text": [
            "Epoch 1/5\n",
            "1875/1875 [==============================] - 12s 6ms/step - loss: 0.2975 - accuracy: 0.9494 - val_loss: 0.0789 - val_accuracy: 0.9743\n",
            "Epoch 2/5\n",
            "1875/1875 [==============================] - 10s 6ms/step - loss: 0.0677 - accuracy: 0.9798 - val_loss: 0.0608 - val_accuracy: 0.9822\n",
            "Epoch 3/5\n",
            "1875/1875 [==============================] - 11s 6ms/step - loss: 0.0535 - accuracy: 0.9835 - val_loss: 0.0759 - val_accuracy: 0.9802\n",
            "Epoch 4/5\n",
            "1875/1875 [==============================] - 10s 6ms/step - loss: 0.0471 - accuracy: 0.9857 - val_loss: 0.0720 - val_accuracy: 0.9796\n",
            "Epoch 5/5\n",
            "1875/1875 [==============================] - 11s 6ms/step - loss: 0.0389 - accuracy: 0.9883 - val_loss: 0.0559 - val_accuracy: 0.9833\n"
          ],
          "name": "stdout"
        },
        {
          "output_type": "execute_result",
          "data": {
            "text/plain": [
              "<keras.callbacks.History at 0x7fece598df10>"
            ]
          },
          "metadata": {},
          "execution_count": 3
        }
      ]
    }
  ]
}