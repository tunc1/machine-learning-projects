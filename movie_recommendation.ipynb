{
  "nbformat": 4,
  "nbformat_minor": 0,
  "metadata": {
    "colab": {
      "name": "Untitled0.ipynb",
      "provenance": [],
      "collapsed_sections": []
    },
    "kernelspec": {
      "name": "python3",
      "display_name": "Python 3"
    },
    "language_info": {
      "name": "python"
    }
  },
  "cells": [
    {
      "cell_type": "code",
      "metadata": {
        "id": "Ht15HnvLlF-9"
      },
      "source": [
        "import pandas\n",
        "from sklearn.metrics.pairwise import cosine_similarity\n",
        "from sklearn.feature_extraction.text import CountVectorizer"
      ],
      "execution_count": 1,
      "outputs": []
    },
    {
      "cell_type": "code",
      "metadata": {
        "id": "DUPF6ArSle_6"
      },
      "source": [
        "df=pandas.read_csv(\"data/movies.csv\")\n",
        "count_vectorizer=CountVectorizer()"
      ],
      "execution_count": 2,
      "outputs": []
    },
    {
      "cell_type": "code",
      "metadata": {
        "id": "a8DkQBARmYBc"
      },
      "source": [
        "genres=count_vectorizer.fit_transform(df[\"genres\"])"
      ],
      "execution_count": 3,
      "outputs": []
    },
    {
      "cell_type": "code",
      "metadata": {
        "id": "6QRjUdvlmazC"
      },
      "source": [
        "similarities=cosine_similarity(genres)"
      ],
      "execution_count": 4,
      "outputs": []
    },
    {
      "cell_type": "code",
      "metadata": {
        "id": "_UGfLO1WmdRI"
      },
      "source": [
        "movie_index=0\n",
        "similar_movies=sorted(enumerate(similarities[movie_index]),reverse=True,key=lambda movie:movie[1])[1:11]"
      ],
      "execution_count": 5,
      "outputs": []
    },
    {
      "cell_type": "code",
      "metadata": {
        "colab": {
          "base_uri": "https://localhost:8080/"
        },
        "id": "aqxOzoq7meki",
        "outputId": "c444a58a-7729-40d4-ab4b-f23995b6302e"
      },
      "source": [
        "for i,_ in similar_movies:\n",
        "    print(\"Name: \",df.iloc[i,1],\"Genre: \",df.iloc[i,2])"
      ],
      "execution_count": 6,
      "outputs": [
        {
          "output_type": "stream",
          "text": [
            "Name:  Superman Returns Genre:  Adventure,Fantasy,Action,Science Fiction\n",
            "Name:  Man of Steel Genre:  Action,Adventure,Fantasy,Science Fiction\n",
            "Name:  X-Men: Days of Future Past Genre:  Action,Adventure,Fantasy,Science Fiction\n",
            "Name:  Jupiter Ascending Genre:  Science Fiction,Fantasy,Action,Adventure\n",
            "Name:  The Wolverine Genre:  Action,Science Fiction,Adventure,Fantasy\n",
            "Name:  Superman Genre:  Action,Adventure,Fantasy,Science Fiction\n",
            "Name:  Superman II Genre:  Action,Adventure,Fantasy,Science Fiction\n",
            "Name:  Beastmaster 2: Through the Portal of Time Genre:  Action,Adventure,Fantasy,Science Fiction\n",
            "Name:  Suicide Squad Genre:  Action,Adventure,Crime,Fantasy,Science Fiction\n",
            "Name:  Teenage Mutant Ninja Turtles Genre:  Science Fiction,Action,Adventure,Fantasy,Comedy\n"
          ],
          "name": "stdout"
        }
      ]
    }
  ]
}