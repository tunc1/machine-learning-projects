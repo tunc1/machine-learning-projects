{
 "metadata": {
  "language_info": {
   "codemirror_mode": {
    "name": "ipython",
    "version": 3
   },
   "file_extension": ".py",
   "mimetype": "text/x-python",
   "name": "python",
   "nbconvert_exporter": "python",
   "pygments_lexer": "ipython3",
   "version": "3.8.6-final"
  },
  "orig_nbformat": 2,
  "kernelspec": {
   "name": "python386jvsc74a57bd05c0372ed38b372118c24adb00d45654d76c8d10261533c5724e3f5fc1d75489a",
   "display_name": "Python 3.8.6 64-bit"
  }
 },
 "nbformat": 4,
 "nbformat_minor": 2,
 "cells": [
  {
   "cell_type": "code",
   "execution_count": 1,
   "metadata": {},
   "outputs": [],
   "source": [
    "from tensorflow.keras.preprocessing.text import Tokenizer\n",
    "from tensorflow.keras.preprocessing.sequence import pad_sequences\n",
    "from sklearn.model_selection import train_test_split\n",
    "from tensorflow.keras.layers import Embedding,Dense,LSTM,Bidirectional\n",
    "from tensorflow.keras.models import Sequential\n",
    "import pandas\n",
    "import nltk\n",
    "from nltk.stem import WordNetLemmatizer\n",
    "import re"
   ]
  },
  {
   "cell_type": "code",
   "execution_count": 2,
   "metadata": {},
   "outputs": [],
   "source": [
    "maxlength=100\n",
    "stopwords=nltk.corpus.stopwords.words(\"english\")\n",
    "dataset=pandas.read_csv(\"data/sentiment_analysis.csv\")\n",
    "x=dataset[\"text\"]\n",
    "y=dataset[\"label\"]\n",
    "tokenizer=Tokenizer(oov_token=\"UNK\")\n",
    "lemmatizer=WordNetLemmatizer()"
   ]
  },
  {
   "cell_type": "code",
   "execution_count": 3,
   "metadata": {},
   "outputs": [],
   "source": [
    "x_train,x_test,y_train,y_test=train_test_split(x,y,test_size=0.25)"
   ]
  },
  {
   "cell_type": "code",
   "execution_count": 4,
   "metadata": {},
   "outputs": [],
   "source": [
    "tokenizer.fit_on_texts(x_train)\n",
    "vocabulary_size=len(tokenizer.word_index)+1"
   ]
  },
  {
   "cell_type": "code",
   "execution_count": 5,
   "metadata": {},
   "outputs": [],
   "source": [
    "def texts_to_sequences(texts):\n",
    "    array=[]\n",
    "    for text in texts:\n",
    "        text=re.sub(r\"(@[A-Za-z0-9]+)|([^0-9A-Za-z \\t])|(\\w+:\\/\\/\\S+)|^rt|http.+?\",\"\",text)\n",
    "        tokens=nltk.word_tokenize(text)\n",
    "        tokens=[lemmatizer.lemmatize(word.lower()) for word in tokens if word.lower() not in stopwords]\n",
    "        array.append(\" \".join(tokens))\n",
    "    texts=tokenizer.texts_to_sequences(array)\n",
    "    return pad_sequences(texts,maxlength,truncating=\"post\")"
   ]
  },
  {
   "cell_type": "code",
   "execution_count": 6,
   "metadata": {
    "tags": []
   },
   "outputs": [],
   "source": [
    "x_train=texts_to_sequences(x_train)\n",
    "x_test=texts_to_sequences(x_test)"
   ]
  },
  {
   "cell_type": "code",
   "execution_count": 7,
   "metadata": {},
   "outputs": [
    {
     "output_type": "stream",
     "name": "stdout",
     "text": [
      "Epoch 1/2\n",
      "1172/1172 [==============================] - 179s 146ms/step - loss: 0.4701 - accuracy: 0.7604 - val_loss: 0.3171 - val_accuracy: 0.8660\n",
      "Epoch 2/2\n",
      "1172/1172 [==============================] - 164s 140ms/step - loss: 0.1812 - accuracy: 0.9333 - val_loss: 0.3253 - val_accuracy: 0.8672\n"
     ]
    },
    {
     "output_type": "execute_result",
     "data": {
      "text/plain": [
       "<tensorflow.python.keras.callbacks.History at 0x2576cbe5cd0>"
      ]
     },
     "metadata": {},
     "execution_count": 7
    }
   ],
   "source": [
    "model=Sequential([\n",
    "    Embedding(input_dim=vocabulary_size,output_dim=32),\n",
    "    Bidirectional(LSTM(32)),\n",
    "    Dense(1,\"sigmoid\")\n",
    "])\n",
    "model.compile(\"adam\",\"binary_crossentropy\",\"accuracy\")\n",
    "model.fit(x_train,y_train,epochs=2,validation_data=(x_test,y_test))"
   ]
  },
  {
   "cell_type": "code",
   "execution_count": 8,
   "metadata": {},
   "outputs": [
    {
     "output_type": "execute_result",
     "data": {
      "text/plain": [
       "array([[0.83972394],\n",
       "       [0.17692232]], dtype=float32)"
      ]
     },
     "metadata": {},
     "execution_count": 8
    }
   ],
   "source": [
    "texts=[\"I love this movie it is great\",\"I hate this movie it is terrible\"]\n",
    "texts=texts_to_sequences(texts)\n",
    "model.predict(texts)"
   ]
  }
 ]
}